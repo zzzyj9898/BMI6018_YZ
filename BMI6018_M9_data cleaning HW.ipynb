{
 "cells": [
  {
   "cell_type": "code",
   "execution_count": 1,
   "id": "962b6ef9-2098-49ac-b6b0-218c9568e789",
   "metadata": {},
   "outputs": [],
   "source": [
    "# libraries\n",
    "import pandas as pd\n",
    "import matplotlib.pyplot as plt\n",
    "import numpy as np"
   ]
  },
  {
   "cell_type": "code",
   "execution_count": 4,
   "id": "bb814b29-4525-4d05-88fe-7ad2d7c944a8",
   "metadata": {},
   "outputs": [],
   "source": [
    "#Importing Data\n",
    "flights_data = pd.read_csv('flights.csv')\n",
    "flights_data.head(10)\n",
    "weather_data_pd = pd.read_csv('weather.csv')\n",
    "weather_data_np = weather_data_pd.to_numpy()"
   ]
  },
  {
   "cell_type": "code",
   "execution_count": 8,
   "id": "0eb93fc7-143c-46ff-9d91-6746b0b47b3c",
   "metadata": {},
   "outputs": [
    {
     "name": "stdout",
     "output_type": "stream",
     "text": [
      "2113\n",
      "<class 'int'>\n"
     ]
    }
   ],
   "source": [
    "#Q1 How many flights were there from JFK to SLC? Int\n",
    "# read the dataset into the DataFrame\n",
    "df = pd.read_csv('flights.csv')\n",
    "A_1 = len(df[(df['origin'] == 'JFK') & (df['dest'] == 'SLC')])\n",
    "print (A_1)\n",
    "print (type(A_1))"
   ]
  },
  {
   "cell_type": "code",
   "execution_count": 9,
   "id": "3f2f8b3a-34e9-431e-ac3e-135a519aa851",
   "metadata": {},
   "outputs": [
    {
     "name": "stdout",
     "output_type": "stream",
     "text": [
      "2\n",
      "<class 'int'>\n"
     ]
    }
   ],
   "source": [
    "#Question 2 How many airlines fly to SLC? Should be int\n",
    "A_2 = len(df[df['dest'] == 'SLC']['carrier'].unique())\n",
    "print (A_2)\n",
    "print (type(A_2))"
   ]
  },
  {
   "cell_type": "code",
   "execution_count": 10,
   "id": "ab62ecd8-9ced-4121-8dac-93d38722e442",
   "metadata": {},
   "outputs": [
    {
     "name": "stdout",
     "output_type": "stream",
     "text": [
      "10.052380952380952\n",
      "<class 'numpy.float64'>\n"
     ]
    }
   ],
   "source": [
    "#Question 3 What is the average arrival delay for flights to RDU? float\n",
    "A_3 = df[df['dest'] == 'RDU']['arr_delay'].mean()\n",
    "print (A_3)\n",
    "print (type(A_3))"
   ]
  },
  {
   "cell_type": "code",
   "execution_count": 11,
   "id": "18bbe87b-7227-4d50-982d-6eabe11a4bd2",
   "metadata": {},
   "outputs": [
    {
     "name": "stdout",
     "output_type": "stream",
     "text": [
      "0.5332653581442773\n",
      "<class 'float'>\n"
     ]
    }
   ],
   "source": [
    "#Question 4 What proportion of flights to SEA come from the two NYC airports (LGA and JFK)?  float\n",
    "total_to_SEA = len(df[df['dest'] == 'SEA'])\n",
    "from_NYC = len(df[(df['dest'] == 'SEA') & ((df['origin'] == 'LGA') | (df['origin'] == 'JFK'))])\n",
    "A_4 = from_NYC / total_to_SEA\n",
    "print (A_4)\n",
    "print (type(A_4))"
   ]
  },
  {
   "cell_type": "code",
   "execution_count": 18,
   "id": "b1909e03-09dd-4ca2-8fb7-705c2df4d716",
   "metadata": {},
   "outputs": [
    {
     "name": "stdout",
     "output_type": "stream",
     "text": [
      "  Date (y/m/d)  Average Departure Delay\n",
      "0   2013/03/08                83.536921\n"
     ]
    }
   ],
   "source": [
    "#Question 5 Which date has the largest average depature delay? Pd slice with date and float\n",
    "#please make date a column. Preferred format is 2013/1/1 (y/m/d)\n",
    "df['date'] = pd.to_datetime(df[['year', 'month', 'day']])\n",
    "average_departure_delay_by_date = df.groupby('date')['dep_delay'].mean()\n",
    "date_with_largest_departure_delay = average_departure_delay_by_date.idxmax()\n",
    "preferred_format = date_with_largest_departure_delay.strftime('%Y/%m/%d')\n",
    "A_5 = pd.DataFrame({'Date (y/m/d)': [preferred_format], 'Average Departure Delay': [average_departure_delay_by_date.max()]})\n",
    "\n",
    "print (A_5)\n"
   ]
  },
  {
   "cell_type": "code",
   "execution_count": 20,
   "id": "7470b40d-5050-4377-ad78-5fff3ddff423",
   "metadata": {},
   "outputs": [
    {
     "name": "stdout",
     "output_type": "stream",
     "text": [
      "  Date (y/m/d)  Average Arrival Delay\n",
      "0   2013/03/08              85.862155\n"
     ]
    }
   ],
   "source": [
    "#Question 6 Which date has the largest average arrival delay? pd slice with date and float\n",
    "##please make date a column. Preferred format is 2013/1/1 (y/m/d)\n",
    "average_arrival_delay_by_date = df.groupby('date')['arr_delay'].mean()\n",
    "date_with_largest_arrival_delay = average_arrival_delay_by_date.idxmax()\n",
    "preferred_format = date_with_largest_arrival_delay.strftime('%Y/%m/%d')\n",
    "A_6 = pd.DataFrame({'Date (y/m/d)': [preferred_format], 'Average Arrival Delay': [average_arrival_delay_by_date.max()]})\n",
    "\n",
    "print (A_6)\n",
    "\n"
   ]
  },
  {
   "cell_type": "code",
   "execution_count": 25,
   "id": "c37789e9-4df1-4ec7-afc6-b2e0d1c97aa1",
   "metadata": {},
   "outputs": [
    {
     "name": "stdout",
     "output_type": "stream",
     "text": [
      "       tailnum      speed\n",
      "216447  N666DN  11.723077\n"
     ]
    }
   ],
   "source": [
    "#Question 7 Which flight departing LGA or JFK in 2013 flew the fastest? pd slice with tailnumber and speed\n",
    "#speed = distance/airtime\n",
    "\n",
    "df = df.dropna(subset=['air_time', 'distance'])\n",
    "df['speed'] = df['distance'] / df['air_time']\n",
    "filtered_df = df[(df['origin'] == 'LGA') | (df['origin'] == 'JFK') & (df['year'] == 2013)]\n",
    "A_7 = filtered_df.nlargest(1, 'speed')[['tailnum', 'speed']]\n",
    "print(A_7)\n"
   ]
  },
  {
   "cell_type": "code",
   "execution_count": 29,
   "id": "fae5a9aa-2776-4039-9c57-358372914c42",
   "metadata": {},
   "outputs": [],
   "source": [
    "#Question 8 Replace all nans in the weather pd dataframe with 0s. Pd with no nans\n",
    "weather_data_df = pd.read_csv('weather.csv')\n",
    "weather_data_df = weather_data_df.fillna(0)"
   ]
  },
  {
   "cell_type": "code",
   "execution_count": 37,
   "id": "c47e81c9-d02f-4b9c-a308-48d8f3eb10bf",
   "metadata": {},
   "outputs": [
    {
     "name": "stdout",
     "output_type": "stream",
     "text": [
      "671\n",
      "<class 'int'>\n"
     ]
    }
   ],
   "source": [
    "#Question 9 How many observations were made in Feburary? Int\n",
    "A_9 = len(weather_data_np[weather_data_np[:, 3] == 2])\n",
    "print (A_9)\n",
    "print (type(A_9))"
   ]
  },
  {
   "cell_type": "code",
   "execution_count": 38,
   "id": "ff9cb9a3-e76a-4dd4-9c1d-95ef9f112246",
   "metadata": {},
   "outputs": [
    {
     "name": "stdout",
     "output_type": "stream",
     "text": [
      "62.918152011922515\n",
      "<class 'numpy.float64'>\n"
     ]
    }
   ],
   "source": [
    "#Question 10 What was the mean for humidity in February? Float\n",
    "A_10 = weather_data_np[weather_data_np[:, 3] == 2][:, 8].mean()\n",
    "print (A_10)\n",
    "print (type(A_10))"
   ]
  },
  {
   "cell_type": "code",
   "execution_count": 40,
   "id": "3d96d34c-4abf-468d-89d1-51857a392ae1",
   "metadata": {},
   "outputs": [
    {
     "name": "stdout",
     "output_type": "stream",
     "text": [
      "20.33690087674334\n",
      "<class 'numpy.float64'>\n"
     ]
    }
   ],
   "source": [
    "#Question 11 What was the std for humidity in February? Float\n",
    "A_11 = weather_data_np[weather_data_np[:, 3] == 2][:, 8].std()\n",
    "print (A_11)\n",
    "print (type(A_11))"
   ]
  }
 ],
 "metadata": {
  "kernelspec": {
   "display_name": "Python 3 (ipykernel)",
   "language": "python",
   "name": "python3"
  },
  "language_info": {
   "codemirror_mode": {
    "name": "ipython",
    "version": 3
   },
   "file_extension": ".py",
   "mimetype": "text/x-python",
   "name": "python",
   "nbconvert_exporter": "python",
   "pygments_lexer": "ipython3",
   "version": "3.11.5"
  }
 },
 "nbformat": 4,
 "nbformat_minor": 5
}

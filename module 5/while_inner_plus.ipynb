{
 "cells": [
  {
   "cell_type": "code",
   "execution_count": 1,
   "id": "db21a1b4-0160-400d-9bc2-778d9e3463f0",
   "metadata": {},
   "outputs": [],
   "source": [
    "# given an input list of any level of complexity/nestedness, will return the inner most list plus 1.\n",
    "# This is to be done with a while loop. The input will contain only integars or lists."
   ]
  },
  {
   "cell_type": "code",
   "execution_count": 4,
   "id": "5f0049b1-adb8-4d67-813e-bc752c14bfb8",
   "metadata": {},
   "outputs": [],
   "source": [
    "input_list = [1,2,3,4,[5,6,7,[8,9,[10,11]]]]"
   ]
  },
  {
   "cell_type": "code",
   "execution_count": 5,
   "id": "a1c18f07-afb3-46e4-a171-048d9a982262",
   "metadata": {},
   "outputs": [
    {
     "name": "stdout",
     "output_type": "stream",
     "text": [
      "[11, 12]\n"
     ]
    }
   ],
   "source": [
    "# while loop to keep iterating until the innermost list is found\n",
    "while isinstance(input_list, list):\n",
    "    innermost = input_list\n",
    "    input_list = input_list[-1] # move to the last level of list\n",
    "if isinstance(innermost, list):\n",
    "    innermost = [i + 1 for i in innermost] # plus 1 to the innermost list.\n",
    "print(innermost)"
   ]
  }
 ],
 "metadata": {
  "kernelspec": {
   "display_name": "Python 3 (ipykernel)",
   "language": "python",
   "name": "python3"
  },
  "language_info": {
   "codemirror_mode": {
    "name": "ipython",
    "version": 3
   },
   "file_extension": ".py",
   "mimetype": "text/x-python",
   "name": "python",
   "nbconvert_exporter": "python",
   "pygments_lexer": "ipython3",
   "version": "3.11.5"
  }
 },
 "nbformat": 4,
 "nbformat_minor": 5
}

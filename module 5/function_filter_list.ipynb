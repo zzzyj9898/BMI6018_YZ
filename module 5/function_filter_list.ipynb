{
 "cells": [
  {
   "cell_type": "code",
   "execution_count": 1,
   "id": "fbbc8af9-7f49-46a1-bed5-6b9b555f76bc",
   "metadata": {},
   "outputs": [],
   "source": [
    "# given an input list, filter the input above a defined threshold.\n",
    "# should be done with standard function.\n",
    "# for example if given a list [1,2,3,4,5,6,7,8,9], and an argument (6), it should return [1,2,3,4,5,6]\n",
    "\n"
   ]
  },
  {
   "cell_type": "code",
   "execution_count": 2,
   "id": "ad94139b-88de-459e-b120-26ee16f0454f",
   "metadata": {},
   "outputs": [],
   "source": [
    "def filter_threshold_above(input_list, threshold):\n",
    "    result_Q3 = [x for x in input_list if x <= threshold] # filter the input above the defined threshold\n",
    "    return result_Q3"
   ]
  },
  {
   "cell_type": "code",
   "execution_count": 3,
   "id": "fa16b9c8-7939-41b3-ac42-6840b1466871",
   "metadata": {},
   "outputs": [
    {
     "name": "stdout",
     "output_type": "stream",
     "text": [
      "[1, 2, 3, 4, 5, 6, 7, 8]\n"
     ]
    }
   ],
   "source": [
    "input_list = [1, 2, 3, 4, 5, 6, 7, 8, 9]\n",
    "result_Q3 = filter_threshold_above(input_list, 8) # filter the input above 8\n",
    "print(result_Q3)"
   ]
  }
 ],
 "metadata": {
  "kernelspec": {
   "display_name": "Python 3 (ipykernel)",
   "language": "python",
   "name": "python3"
  },
  "language_info": {
   "codemirror_mode": {
    "name": "ipython",
    "version": 3
   },
   "file_extension": ".py",
   "mimetype": "text/x-python",
   "name": "python",
   "nbconvert_exporter": "python",
   "pygments_lexer": "ipython3",
   "version": "3.11.5"
  }
 },
 "nbformat": 4,
 "nbformat_minor": 5
}

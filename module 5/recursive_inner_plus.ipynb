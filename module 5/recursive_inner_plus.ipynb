{
 "cells": [
  {
   "cell_type": "code",
   "execution_count": null,
   "id": "34a3c52a-4235-493b-b935-a8bcf0f075f9",
   "metadata": {},
   "outputs": [],
   "source": [
    "# given an input list of any level of complexity/nestedness,\n",
    "# return the inner most list plus 1.\n",
    "# has to be done with recursion."
   ]
  },
  {
   "cell_type": "code",
   "execution_count": 30,
   "id": "d74cb024-e512-4f7f-bd91-ef2abb87dd19",
   "metadata": {},
   "outputs": [],
   "source": [
    "input_list = [1, 2, 3, 4, [5, 6, 7,[8,9,10]]]"
   ]
  },
  {
   "cell_type": "code",
   "execution_count": 31,
   "id": "3021a4f6-f577-4f67-9fe0-32c4a7d4c4d3",
   "metadata": {},
   "outputs": [],
   "source": [
    "def innermost_plus_one(input_list):\n",
    "    if isinstance(input_list, int):\n",
    "        return [input_list + 1] # if the input is an integar, plus all the number in the list with 1.\n",
    "    elif isinstance(input_list, list):\n",
    "        innermost = []\n",
    "        for i in input_list: #iterate through the elements in the input list\n",
    "            if isinstance(i, list): # is the element is a list, recursively call the function on that element.\n",
    "                innermost = innermost_plus_one(i)\n",
    "            elif isinstance(i, int):\n",
    "                innermost.append(i + 1)\n",
    "        return innermost\n",
    "    "
   ]
  },
  {
   "cell_type": "code",
   "execution_count": 32,
   "id": "203d0bd6-a6e1-458f-a9fa-cba3b10231f2",
   "metadata": {},
   "outputs": [
    {
     "name": "stdout",
     "output_type": "stream",
     "text": [
      "[9, 10, 11]\n"
     ]
    }
   ],
   "source": [
    "result_Q2 = innermost_plus_one(input_list)\n",
    "print(result_Q2)"
   ]
  }
 ],
 "metadata": {
  "kernelspec": {
   "display_name": "Python 3 (ipykernel)",
   "language": "python",
   "name": "python3"
  },
  "language_info": {
   "codemirror_mode": {
    "name": "ipython",
    "version": 3
   },
   "file_extension": ".py",
   "mimetype": "text/x-python",
   "name": "python",
   "nbconvert_exporter": "python",
   "pygments_lexer": "ipython3",
   "version": "3.11.5"
  }
 },
 "nbformat": 4,
 "nbformat_minor": 5
}

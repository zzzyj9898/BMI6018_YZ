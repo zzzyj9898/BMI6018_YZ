{
 "cells": [
  {
   "cell_type": "code",
   "execution_count": 1,
   "id": "f3e24040-42eb-4b04-be37-18d01e744e34",
   "metadata": {},
   "outputs": [
    {
     "data": {
      "text/plain": [
       "[6, 9, 12]"
      ]
     },
     "execution_count": 1,
     "metadata": {},
     "output_type": "execute_result"
    }
   ],
   "source": [
    "#description of question 1.\n",
    "def wrong_add_function(arg1,arg2):\n",
    "   '''\n",
    "   The function takes in two lists of integers, then it adds\n",
    "   all of arg2 to each item of arg1.\n",
    "   \n",
    "   Example:\n",
    "      > wrong_add_function([1,2,3],[1,1,1])\n",
    "      > [6,9,12]\n",
    "\n",
    "   whereas the expected correct answer is, [2,3,4]\n",
    "\n",
    "   Parameters\n",
    "   ----------\n",
    "   arg1 : list\n",
    "      list of integers.\n",
    "   arg2 : list\n",
    "      list of integers.\n",
    "\n",
    "   Returns\n",
    "   -------\n",
    "   arg1 : list\n",
    "      Elements of arg1, with each element having had the contents of \n",
    "      arg2 added to it.\n",
    "\n",
    "   '''\n",
    "   arg1_index=0\n",
    "   while arg1_index < len(arg1):\n",
    "      arg_2_sum = 0\n",
    "      for arg2_elements in arg2:\n",
    "         arg_2_sum = sum([arg1[arg1_index]+i for i in arg2])\n",
    "      arg1[arg1_index]=arg_2_sum  \n",
    "      arg1_index+=1\n",
    "   return arg1\n",
    "\n",
    "arg1 = [1,2,3]\n",
    "arg2 = [1,1,1]\n",
    "\n",
    "wrong_add_function(arg1, arg2)"
   ]
  },
  {
   "cell_type": "code",
   "execution_count": 2,
   "id": "2017d19f-a6ce-4b2f-b2f9-f292ba71a76e",
   "metadata": {},
   "outputs": [
    {
     "name": "stdout",
     "output_type": "stream",
     "text": [
      "We are making an error in the loop. Element 1: calculated result is 6, but the correct answer is supposed to be 2.\n",
      "We are making an error in the loop. Element 2: calculated result is 9, but the correct answer is supposed to be 3.\n",
      "We are making an error in the loop. Element 3: calculated result is 12, but the correct answer is supposed to be 4.\n"
     ]
    }
   ],
   "source": [
    "#1a use print function to print out the mistake, and show the expected output out to be:\n",
    "def wrong_add_function(arg1, arg2):\n",
    "    arg1_index = 0\n",
    "    while arg1_index < len(arg1):\n",
    "        arg_2_sum = 0\n",
    "        for arg2_element in arg2:\n",
    "            arg_2_sum += arg1[arg1_index] + arg2_element\n",
    "        if arg_2_sum != arg1[arg1_index]:\n",
    "            print(f\"We are making an error in the loop. Element {arg1_index+1}: calculated result is {arg_2_sum}, but the correct answer is supposed to be {arg1[arg1_index] + arg2_element}.\")\n",
    "        arg1[arg1_index] = arg_2_sum\n",
    "        arg1_index += 1\n",
    "    return arg1\n",
    "\n",
    "arg1 = [1, 2, 3]\n",
    "arg2 = [1, 1, 1]\n",
    "\n",
    "result = wrong_add_function(arg1, arg2)\n"
   ]
  },
  {
   "cell_type": "code",
   "execution_count": 3,
   "id": "e5bd592b-fc36-4e67-894e-9c3dd932c512",
   "metadata": {},
   "outputs": [
    {
     "name": "stdout",
     "output_type": "stream",
     "text": [
      "[2, 3, 4]\n"
     ]
    }
   ],
   "source": [
    "#1b modify the function and use the same general structure to output the correct answer:\n",
    "def correct_add_function(arg1, arg2):\n",
    "    arg1_index = 0\n",
    "    while arg1_index < len(arg1):\n",
    "        arg1[arg1_index] += arg2[arg1_index]  # Corrected line\n",
    "        arg1_index += 1\n",
    "    return arg1\n",
    "\n",
    "arg1 = [1, 2, 3]\n",
    "arg2 = [1, 1, 1]\n",
    "\n",
    "result = correct_add_function(arg1, arg2)\n",
    "\n",
    "print(result)\n",
    "\n",
    "\n"
   ]
  },
  {
   "cell_type": "code",
   "execution_count": 5,
   "id": "d88163fa-29d2-4b19-9400-2033f38ab630",
   "metadata": {},
   "outputs": [],
   "source": [
    "def wrong_add_function(arg1,arg2):\n",
    "   '''\n",
    "   The function takes in two lists of integers, then it adds\n",
    "   all of arg2 to each item of arg1.\n",
    "   \n",
    "   Example:\n",
    "      > wrong_add_function([1,2,3],[1,1,1])\n",
    "      > [4,5,6]\n",
    "   \n",
    "   If the lists are lists of strings, concatenate them\n",
    "   Example:\n",
    "      > wrong_add_function(['1','2','3'],['1','1','1'])\n",
    "      > ['1111','2111','3111']\n",
    "   Parameters\n",
    "   ----------\n",
    "   arg1 : list\n",
    "      list of integers.\n",
    "   arg2 : list\n",
    "      list of integers.\n",
    "\n",
    "   Returns\n",
    "   -------\n",
    "   arg1 : list\n",
    "      Elements of arg1, with each element having had the contents of \n",
    "      arg2 added to it.\n",
    "\n",
    "   '''\n",
    "   #numeric section\n",
    "   if sum([type(i)==int for i in arg1])==len(arg1) and \\\n",
    "      sum([type(i)==int for i in arg2])==len(arg2):\n",
    "         arg1_index=0\n",
    "         while arg1_index < len(arg1):\n",
    "            arg_2_sum = 0\n",
    "            for arg2_elements in arg2:\n",
    "               arg_2_sum = sum([arg1[arg1_index]+i for i in arg2])\n",
    "            arg1[arg1_index]=arg_2_sum  \n",
    "            arg1_index+=1\n",
    "         return arg1\n",
    "   #string section\n",
    "   elif sum([type(i)==str for i in arg1])==len(arg1) and \\\n",
    "      sum([type(i)==str for i in arg2])==len(arg2):\n",
    "         arg1_index=0\n",
    "         while arg1_index < len(arg1):\n",
    "            arg_2_sum = ''\n",
    "            for arg2_elements in arg2:\n",
    "               arg_2_sum += arg2_elements\n",
    "            arg1[arg1_index]=arg1[arg1_index]+str(arg_2_sum)\n",
    "            arg1_index+=1\n",
    "         return arg1\n",
    "arg_str_1=['1','2','3']\n",
    "arg_str_2=['1','1', 1]\n",
    "\n",
    "wrong_add_function(arg_str_1,arg_str_2)\n"
   ]
  },
  {
   "cell_type": "code",
   "execution_count": 7,
   "id": "840643c1-0869-4b55-ad60-760b489465c4",
   "metadata": {},
   "outputs": [
    {
     "ename": "SyntaxError",
     "evalue": "'return' outside function (1457371415.py, line 9)",
     "output_type": "error",
     "traceback": [
      "\u001b[0;36m  Cell \u001b[0;32mIn[7], line 9\u001b[0;36m\u001b[0m\n\u001b[0;31m    return arg1\u001b[0m\n\u001b[0m    ^\u001b[0m\n\u001b[0;31mSyntaxError\u001b[0m\u001b[0;31m:\u001b[0m 'return' outside function\n"
     ]
    }
   ],
   "source": [
    "#2a: updated numeric section of the function based on question 1b:\n",
    "#numeric section:\n",
    "if sum([type(i)==int for i in arg1])==len(arg1) and \\\n",
    "    sum([type(i)==int for i in arg2])==len(arg2):\n",
    "        arg1_index=0\n",
    "        while arg1_index < len(arg1):\n",
    "            arg1[arg1_index] += arg2[arg1_index]  # Corrected line\n",
    "            arg1_index += 1\n",
    "        return arg1\n",
    "#following string section:\n",
    "elif sum([type(i)==str for i in arg1])==len(arg1) and \\\n",
    "      sum([type(i)==str for i in arg2])==len(arg2):\n",
    "         arg1_index=0\n",
    "         while arg1_index < len(arg1):\n",
    "            arg_2_sum = ''\n",
    "            for arg2_elements in arg2:\n",
    "               arg_2_sum += arg2_elements\n",
    "            arg1[arg1_index]=arg1[arg1_index]+str(arg_2_sum)\n",
    "            arg1_index+=1\n",
    "         return arg1\n",
    "arg_str_1=['1','2','3']\n",
    "arg_str_2=['1','1', 1]\n",
    "\n",
    "wrong_add_function(arg_str_1,arg_str_2)"
   ]
  },
  {
   "cell_type": "code",
   "execution_count": 24,
   "id": "49eef3ed-c8c2-4e1c-8b09-ef2888614359",
   "metadata": {},
   "outputs": [
    {
     "name": "stdout",
     "output_type": "stream",
     "text": [
      "Your input argument(s) at element 0, element 1 is/are not of the expected type. Please change this and rerun.\n"
     ]
    }
   ],
   "source": [
    "#2.b Without modifying the string section code itself or the input directly, write a try, except block that catches the issue with the input below and returns an error message to the user,\n",
    "def exception_add_function(arg1, arg2):\n",
    "    try:\n",
    "        if len(arg1) != len(arg2):\n",
    "            raise ValueError(\"Both input lists must have the same length.\")\n",
    "        \n",
    "        error_indices = []\n",
    "        for i in range(len(arg1)):\n",
    "            if not (isinstance(arg1[i], int) and isinstance(arg2[i], int)) and not (isinstance(arg1[i], str) and isinstance(arg2[i], str)):\n",
    "                error_indices.append(i)\n",
    "        \n",
    "        if error_indices:\n",
    "            error_message = \", \".join([f\"element {i}\" for i in error_indices])\n",
    "            raise ValueError(f\"Your input argument(s) at {error_message} is/are not of the expected type. Please change this and rerun.\")\n",
    "        \n",
    "        result = []\n",
    "        for a1, a2 in zip(arg1, arg2):\n",
    "            if isinstance(a1, int) and isinstance(a2, int):\n",
    "                result.append(a1 + a2)\n",
    "            elif isinstance(a1, str) and isinstance(a2, str):\n",
    "                result.append(a1 + a2)\n",
    "        \n",
    "        return result\n",
    "    except Exception as e:\n",
    "        return str(e)\n",
    "\n",
    "# Example usage with invalid input:\n",
    "result = exception_add_function([1, 2, 3], [\"5\", \"2\", 5])\n",
    "print(result) "
   ]
  },
  {
   "cell_type": "code",
   "execution_count": 26,
   "id": "876e2804-ddfa-4797-bac0-0df3be82b7da",
   "metadata": {},
   "outputs": [
    {
     "name": "stdout",
     "output_type": "stream",
     "text": [
      "Your input argument [1 or 2] at element [n] is not of the expected type. Please change this and rerun.\n"
     ]
    }
   ],
   "source": [
    "#2.c Without modifying the string section code itself or the input directly, write a try, except block that catches the issue with the input below and gets it to process via the string section.\n",
    "def correction_add_function(arg1, arg2):\n",
    "    try:\n",
    "        if all(isinstance(i, int) for i in arg1) and all(isinstance(i, int) for i in arg2):\n",
    "            arg1_index = 0\n",
    "            while arg1_index < len(arg1):\n",
    "                arg1[arg1_index] += arg2[arg1_index]\n",
    "                arg1_index += 1\n",
    "            return arg1\n",
    "        elif all(isinstance(i, str) for i in arg1) and all(isinstance(i, str) for i in arg2):\n",
    "            arg1_index = 0\n",
    "            while arg1_index < len(arg1):\n",
    "                arg2_sum = ''.join(arg2)\n",
    "                arg1[arg1_index] += arg2_sum\n",
    "                arg1_index += 1\n",
    "            return arg1\n",
    "        else:\n",
    "            raise ValueError(\"Your input argument [1 or 2] at element [n] is not of the expected type. Please change this and rerun.\")\n",
    "    except Exception as e:\n",
    "        return str(e)\n",
    "# Example usage with invalid input:\n",
    "arg_str_1 = [1, 2, 3]\n",
    "arg_str_2 = [\"5\", \"2\", 5]\n",
    "\n",
    "try:\n",
    "    result = correction_add_function(arg_str_1, arg_str_2)\n",
    "    print(result) \n",
    "except ValueError as e:\n",
    "    print(str(e))\n"
   ]
  }
 ],
 "metadata": {
  "kernelspec": {
   "display_name": "Python 3 (ipykernel)",
   "language": "python",
   "name": "python3"
  },
  "language_info": {
   "codemirror_mode": {
    "name": "ipython",
    "version": 3
   },
   "file_extension": ".py",
   "mimetype": "text/x-python",
   "name": "python",
   "nbconvert_exporter": "python",
   "pygments_lexer": "ipython3",
   "version": "3.11.5"
  }
 },
 "nbformat": 4,
 "nbformat_minor": 5
}

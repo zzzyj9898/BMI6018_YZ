{
 "cells": [
  {
   "cell_type": "code",
   "execution_count": 13,
   "id": "d9133ac2-73c8-4c37-8b31-c4888c00dd67",
   "metadata": {},
   "outputs": [
    {
     "name": "stdout",
     "output_type": "stream",
     "text": [
      "<class 'int'>\n"
     ]
    }
   ],
   "source": [
    "#Jack has been prescribed 5 medications, write a variable named \"Medication\", and store in it the number of medications he has. Print the type of the variable ''Medication\".\n",
    "\n",
    "Medication = 5\n",
    "print(type(Medication))"
   ]
  }
 ],
 "metadata": {
  "kernelspec": {
   "display_name": "Python 3 (ipykernel)",
   "language": "python",
   "name": "python3"
  },
  "language_info": {
   "codemirror_mode": {
    "name": "ipython",
    "version": 3
   },
   "file_extension": ".py",
   "mimetype": "text/x-python",
   "name": "python",
   "nbconvert_exporter": "python",
   "pygments_lexer": "ipython3",
   "version": "3.11.5"
  }
 },
 "nbformat": 4,
 "nbformat_minor": 5
}

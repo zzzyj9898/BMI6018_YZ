{
 "cells": [
  {
   "cell_type": "code",
   "execution_count": 1,
   "id": "3da6dd7a-f2bd-49dc-b06b-dbc133ce767a",
   "metadata": {},
   "outputs": [
    {
     "name": "stdout",
     "output_type": "stream",
     "text": [
      "24.034609838166958\n"
     ]
    }
   ],
   "source": [
    "# Body Mass Index : weight in kilograms 60 divided by the square of height in meters 1.58. \n",
    "print(60 / (1.58 ** 2))"
   ]
  }
 ],
 "metadata": {
  "kernelspec": {
   "display_name": "Python 3 (ipykernel)",
   "language": "python",
   "name": "python3"
  },
  "language_info": {
   "codemirror_mode": {
    "name": "ipython",
    "version": 3
   },
   "file_extension": ".py",
   "mimetype": "text/x-python",
   "name": "python",
   "nbconvert_exporter": "python",
   "pygments_lexer": "ipython3",
   "version": "3.11.5"
  }
 },
 "nbformat": 4,
 "nbformat_minor": 5
}

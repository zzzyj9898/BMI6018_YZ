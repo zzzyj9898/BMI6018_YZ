{
 "cells": [
  {
   "cell_type": "code",
   "execution_count": 1,
   "id": "fd2da81e-71cd-4817-9fc8-1183f994e6a8",
   "metadata": {},
   "outputs": [
    {
     "name": "stdout",
     "output_type": "stream",
     "text": [
      "1.26.1\n"
     ]
    }
   ],
   "source": [
    "# 1. Import numpy as np and print the version number.\n",
    "import numpy as np\n",
    "print(np.__version__)"
   ]
  },
  {
   "cell_type": "code",
   "execution_count": 2,
   "id": "dce07db0-1acf-497a-9eba-36cefbc66d3e",
   "metadata": {},
   "outputs": [
    {
     "name": "stdout",
     "output_type": "stream",
     "text": [
      "[0 1 2 3 4 5 6 7 8 9]\n"
     ]
    }
   ],
   "source": [
    "# 2. Create a 1D array of numbers from 0 to 9.\n",
    "array_1d = np.arange(10)\n",
    "print(array_1d)"
   ]
  },
  {
   "cell_type": "code",
   "execution_count": 3,
   "id": "79cb0f0d-b1f5-48c9-8099-dc0018d178f5",
   "metadata": {},
   "outputs": [
    {
     "name": "stdout",
     "output_type": "stream",
     "text": [
      "[(5.1, 3.5, 1.4, 0.2, b'Iris-setosa') (4.9, 3. , 1.4, 0.2, b'Iris-setosa')\n",
      " (4.7, 3.2, 1.3, 0.2, b'Iris-setosa') (4.6, 3.1, 1.5, 0.2, b'Iris-setosa')\n",
      " (5. , 3.6, 1.4, 0.2, b'Iris-setosa') (5.4, 3.9, 1.7, 0.4, b'Iris-setosa')\n",
      " (4.6, 3.4, 1.4, 0.3, b'Iris-setosa') (5. , 3.4, 1.5, 0.2, b'Iris-setosa')\n",
      " (4.4, 2.9, 1.4, 0.2, b'Iris-setosa') (4.9, 3.1, 1.5, 0.1, b'Iris-setosa')\n",
      " (5.4, 3.7, 1.5, 0.2, b'Iris-setosa') (4.8, 3.4, 1.6, 0.2, b'Iris-setosa')\n",
      " (4.8, 3. , 1.4, 0.1, b'Iris-setosa') (4.3, 3. , 1.1, 0.1, b'Iris-setosa')\n",
      " (5.8, 4. , 1.2, 0.2, b'Iris-setosa') (5.7, 4.4, 1.5, 0.4, b'Iris-setosa')\n",
      " (5.4, 3.9, 1.3, 0.4, b'Iris-setosa') (5.1, 3.5, 1.4, 0.3, b'Iris-setosa')\n",
      " (5.7, 3.8, 1.7, 0.3, b'Iris-setosa') (5.1, 3.8, 1.5, 0.3, b'Iris-setosa')\n",
      " (5.4, 3.4, 1.7, 0.2, b'Iris-setosa') (5.1, 3.7, 1.5, 0.4, b'Iris-setosa')\n",
      " (4.6, 3.6, 1. , 0.2, b'Iris-setosa') (5.1, 3.3, 1.7, 0.5, b'Iris-setosa')\n",
      " (4.8, 3.4, 1.9, 0.2, b'Iris-setosa') (5. , 3. , 1.6, 0.2, b'Iris-setosa')\n",
      " (5. , 3.4, 1.6, 0.4, b'Iris-setosa') (5.2, 3.5, 1.5, 0.2, b'Iris-setosa')\n",
      " (5.2, 3.4, 1.4, 0.2, b'Iris-setosa') (4.7, 3.2, 1.6, 0.2, b'Iris-setosa')\n",
      " (4.8, 3.1, 1.6, 0.2, b'Iris-setosa') (5.4, 3.4, 1.5, 0.4, b'Iris-setosa')\n",
      " (5.2, 4.1, 1.5, 0.1, b'Iris-setosa') (5.5, 4.2, 1.4, 0.2, b'Iris-setosa')\n",
      " (4.9, 3.1, 1.5, 0.1, b'Iris-setosa') (5. , 3.2, 1.2, 0.2, b'Iris-setosa')\n",
      " (5.5, 3.5, 1.3, 0.2, b'Iris-setosa') (4.9, 3.1, 1.5, 0.1, b'Iris-setosa')\n",
      " (4.4, 3. , 1.3, 0.2, b'Iris-setosa') (5.1, 3.4, 1.5, 0.2, b'Iris-setosa')\n",
      " (5. , 3.5, 1.3, 0.3, b'Iris-setosa') (4.5, 2.3, 1.3, 0.3, b'Iris-setosa')\n",
      " (4.4, 3.2, 1.3, 0.2, b'Iris-setosa') (5. , 3.5, 1.6, 0.6, b'Iris-setosa')\n",
      " (5.1, 3.8, 1.9, 0.4, b'Iris-setosa') (4.8, 3. , 1.4, 0.3, b'Iris-setosa')\n",
      " (5.1, 3.8, 1.6, 0.2, b'Iris-setosa') (4.6, 3.2, 1.4, 0.2, b'Iris-setosa')\n",
      " (5.3, 3.7, 1.5, 0.2, b'Iris-setosa') (5. , 3.3, 1.4, 0.2, b'Iris-setosa')\n",
      " (7. , 3.2, 4.7, 1.4, b'Iris-versicolor')\n",
      " (6.4, 3.2, 4.5, 1.5, b'Iris-versicolor')\n",
      " (6.9, 3.1, 4.9, 1.5, b'Iris-versicolor')\n",
      " (5.5, 2.3, 4. , 1.3, b'Iris-versicolor')\n",
      " (6.5, 2.8, 4.6, 1.5, b'Iris-versicolor')\n",
      " (5.7, 2.8, 4.5, 1.3, b'Iris-versicolor')\n",
      " (6.3, 3.3, 4.7, 1.6, b'Iris-versicolor')\n",
      " (4.9, 2.4, 3.3, 1. , b'Iris-versicolor')\n",
      " (6.6, 2.9, 4.6, 1.3, b'Iris-versicolor')\n",
      " (5.2, 2.7, 3.9, 1.4, b'Iris-versicolor')\n",
      " (5. , 2. , 3.5, 1. , b'Iris-versicolor')\n",
      " (5.9, 3. , 4.2, 1.5, b'Iris-versicolor')\n",
      " (6. , 2.2, 4. , 1. , b'Iris-versicolor')\n",
      " (6.1, 2.9, 4.7, 1.4, b'Iris-versicolor')\n",
      " (5.6, 2.9, 3.6, 1.3, b'Iris-versicolor')\n",
      " (6.7, 3.1, 4.4, 1.4, b'Iris-versicolor')\n",
      " (5.6, 3. , 4.5, 1.5, b'Iris-versicolor')\n",
      " (5.8, 2.7, 4.1, 1. , b'Iris-versicolor')\n",
      " (6.2, 2.2, 4.5, 1.5, b'Iris-versicolor')\n",
      " (5.6, 2.5, 3.9, 1.1, b'Iris-versicolor')\n",
      " (5.9, 3.2, 4.8, 1.8, b'Iris-versicolor')\n",
      " (6.1, 2.8, 4. , 1.3, b'Iris-versicolor')\n",
      " (6.3, 2.5, 4.9, 1.5, b'Iris-versicolor')\n",
      " (6.1, 2.8, 4.7, 1.2, b'Iris-versicolor')\n",
      " (6.4, 2.9, 4.3, 1.3, b'Iris-versicolor')\n",
      " (6.6, 3. , 4.4, 1.4, b'Iris-versicolor')\n",
      " (6.8, 2.8, 4.8, 1.4, b'Iris-versicolor')\n",
      " (6.7, 3. , 5. , 1.7, b'Iris-versicolor')\n",
      " (6. , 2.9, 4.5, 1.5, b'Iris-versicolor')\n",
      " (5.7, 2.6, 3.5, 1. , b'Iris-versicolor')\n",
      " (5.5, 2.4, 3.8, 1.1, b'Iris-versicolor')\n",
      " (5.5, 2.4, 3.7, 1. , b'Iris-versicolor')\n",
      " (5.8, 2.7, 3.9, 1.2, b'Iris-versicolor')\n",
      " (6. , 2.7, 5.1, 1.6, b'Iris-versicolor')\n",
      " (5.4, 3. , 4.5, 1.5, b'Iris-versicolor')\n",
      " (6. , 3.4, 4.5, 1.6, b'Iris-versicolor')\n",
      " (6.7, 3.1, 4.7, 1.5, b'Iris-versicolor')\n",
      " (6.3, 2.3, 4.4, 1.3, b'Iris-versicolor')\n",
      " (5.6, 3. , 4.1, 1.3, b'Iris-versicolor')\n",
      " (5.5, 2.5, 4. , 1.3, b'Iris-versicolor')\n",
      " (5.5, 2.6, 4.4, 1.2, b'Iris-versicolor')\n",
      " (6.1, 3. , 4.6, 1.4, b'Iris-versicolor')\n",
      " (5.8, 2.6, 4. , 1.2, b'Iris-versicolor')\n",
      " (5. , 2.3, 3.3, 1. , b'Iris-versicolor')\n",
      " (5.6, 2.7, 4.2, 1.3, b'Iris-versicolor')\n",
      " (5.7, 3. , 4.2, 1.2, b'Iris-versicolor')\n",
      " (5.7, 2.9, 4.2, 1.3, b'Iris-versicolor')\n",
      " (6.2, 2.9, 4.3, 1.3, b'Iris-versicolor')\n",
      " (5.1, 2.5, 3. , 1.1, b'Iris-versicolor')\n",
      " (5.7, 2.8, 4.1, 1.3, b'Iris-versicolor')\n",
      " (6.3, 3.3, 6. , 2.5, b'Iris-virginica')\n",
      " (5.8, 2.7, 5.1, 1.9, b'Iris-virginica')\n",
      " (7.1, 3. , 5.9, 2.1, b'Iris-virginica')\n",
      " (6.3, 2.9, 5.6, 1.8, b'Iris-virginica')\n",
      " (6.5, 3. , 5.8, 2.2, b'Iris-virginica')\n",
      " (7.6, 3. , 6.6, 2.1, b'Iris-virginica')\n",
      " (4.9, 2.5, 4.5, 1.7, b'Iris-virginica')\n",
      " (7.3, 2.9, 6.3, 1.8, b'Iris-virginica')\n",
      " (6.7, 2.5, 5.8, 1.8, b'Iris-virginica')\n",
      " (7.2, 3.6, 6.1, 2.5, b'Iris-virginica')\n",
      " (6.5, 3.2, 5.1, 2. , b'Iris-virginica')\n",
      " (6.4, 2.7, 5.3, 1.9, b'Iris-virginica')\n",
      " (6.8, 3. , 5.5, 2.1, b'Iris-virginica')\n",
      " (5.7, 2.5, 5. , 2. , b'Iris-virginica')\n",
      " (5.8, 2.8, 5.1, 2.4, b'Iris-virginica')\n",
      " (6.4, 3.2, 5.3, 2.3, b'Iris-virginica')\n",
      " (6.5, 3. , 5.5, 1.8, b'Iris-virginica')\n",
      " (7.7, 3.8, 6.7, 2.2, b'Iris-virginica')\n",
      " (7.7, 2.6, 6.9, 2.3, b'Iris-virginica')\n",
      " (6. , 2.2, 5. , 1.5, b'Iris-virginica')\n",
      " (6.9, 3.2, 5.7, 2.3, b'Iris-virginica')\n",
      " (5.6, 2.8, 4.9, 2. , b'Iris-virginica')\n",
      " (7.7, 2.8, 6.7, 2. , b'Iris-virginica')\n",
      " (6.3, 2.7, 4.9, 1.8, b'Iris-virginica')\n",
      " (6.7, 3.3, 5.7, 2.1, b'Iris-virginica')\n",
      " (7.2, 3.2, 6. , 1.8, b'Iris-virginica')\n",
      " (6.2, 2.8, 4.8, 1.8, b'Iris-virginica')\n",
      " (6.1, 3. , 4.9, 1.8, b'Iris-virginica')\n",
      " (6.4, 2.8, 5.6, 2.1, b'Iris-virginica')\n",
      " (7.2, 3. , 5.8, 1.6, b'Iris-virginica')\n",
      " (7.4, 2.8, 6.1, 1.9, b'Iris-virginica')\n",
      " (7.9, 3.8, 6.4, 2. , b'Iris-virginica')\n",
      " (6.4, 2.8, 5.6, 2.2, b'Iris-virginica')\n",
      " (6.3, 2.8, 5.1, 1.5, b'Iris-virginica')\n",
      " (6.1, 2.6, 5.6, 1.4, b'Iris-virginica')\n",
      " (7.7, 3. , 6.1, 2.3, b'Iris-virginica')\n",
      " (6.3, 3.4, 5.6, 2.4, b'Iris-virginica')\n",
      " (6.4, 3.1, 5.5, 1.8, b'Iris-virginica')\n",
      " (6. , 3. , 4.8, 1.8, b'Iris-virginica')\n",
      " (6.9, 3.1, 5.4, 2.1, b'Iris-virginica')\n",
      " (6.7, 3.1, 5.6, 2.4, b'Iris-virginica')\n",
      " (6.9, 3.1, 5.1, 2.3, b'Iris-virginica')\n",
      " (5.8, 2.7, 5.1, 1.9, b'Iris-virginica')\n",
      " (6.8, 3.2, 5.9, 2.3, b'Iris-virginica')\n",
      " (6.7, 3.3, 5.7, 2.5, b'Iris-virginica')\n",
      " (6.7, 3. , 5.2, 2.3, b'Iris-virginica')\n",
      " (6.3, 2.5, 5. , 1.9, b'Iris-virginica')\n",
      " (6.5, 3. , 5.2, 2. , b'Iris-virginica')\n",
      " (6.2, 3.4, 5.4, 2.3, b'Iris-virginica')\n",
      " (5.9, 3. , 5.1, 1.8, b'Iris-virginica')]\n"
     ]
    },
    {
     "name": "stderr",
     "output_type": "stream",
     "text": [
      "/var/folders/xj/8w1srn6s1x170wx6hpvdnf600000gn/T/ipykernel_88837/2162006332.py:7: VisibleDeprecationWarning: Reading unicode strings without specifying the encoding argument is deprecated. Set the encoding, use None for the system default.\n",
      "  dataset = np.genfromtxt(data.splitlines(), delimiter=',', dtype=None)\n"
     ]
    }
   ],
   "source": [
    "# 3. Import the iris dataset with numbers and texts.\n",
    "import urllib.request\n",
    "\n",
    "url = \"https://archive.ics.uci.edu/ml/machine-learning-databases/iris/iris.data\"\n",
    "response = urllib.request.urlopen(url)\n",
    "data = response.read()\n",
    "dataset = np.genfromtxt(data.splitlines(), delimiter=',', dtype=None)\n",
    "print(dataset)"
   ]
  },
  {
   "cell_type": "code",
   "execution_count": 6,
   "id": "9f14ea7f-3524-4ab7-b276-0f29ac18bf65",
   "metadata": {},
   "outputs": [
    {
     "name": "stdout",
     "output_type": "stream",
     "text": [
      "Index of first value greater than 1.0 in petalwidth: 50\n"
     ]
    }
   ],
   "source": [
    "# 4. Find the position of the first occurrence of a value greater than 1.0 in the petalwidth (4th column) of the iris dataset.\n",
    "dtypes = [('sepal_length', 'float'), ('sepal_width', 'float'), ('petal_length', 'float'), ('petal_width', 'float'), ('class', 'U25')]\n",
    "iris_data = np.genfromtxt(data.splitlines(), delimiter=',', dtype=dtypes)\n",
    "petalwidth_column = iris_data['petal_width']\n",
    "index = np.argmax(petalwidth_column > 1.0)\n",
    "print(f\"Index of first value greater than 1.0 in petalwidth: {index}\")"
   ]
  },
  {
   "cell_type": "code",
   "execution_count": 7,
   "id": "e55e162b-ed9c-48f9-99a9-d9dc9ce82f19",
   "metadata": {},
   "outputs": [
    {
     "name": "stdout",
     "output_type": "stream",
     "text": [
      "[27.62684215 14.64009987 21.80136195 30.         10.         10.\n",
      " 30.         30.         10.         29.17957314 30.         11.25090398\n",
      " 10.08108276 10.         11.76517714 30.         30.         10.\n",
      " 30.         14.42961361]\n"
     ]
    }
   ],
   "source": [
    "\n",
    "# 5. From the array a, replace all values greater than 30 with 30 and less than 10 with 10.\n",
    "np.random.seed(100)\n",
    "a = np.random.uniform(1, 50, 20)\n",
    "a = np.where(a > 30, 30, np.where(a < 10, 10, a))\n",
    "print(a)"
   ]
  }
 ],
 "metadata": {
  "kernelspec": {
   "display_name": "Python 3 (ipykernel)",
   "language": "python",
   "name": "python3"
  },
  "language_info": {
   "codemirror_mode": {
    "name": "ipython",
    "version": 3
   },
   "file_extension": ".py",
   "mimetype": "text/x-python",
   "name": "python",
   "nbconvert_exporter": "python",
   "pygments_lexer": "ipython3",
   "version": "3.11.5"
  }
 },
 "nbformat": 4,
 "nbformat_minor": 5
}

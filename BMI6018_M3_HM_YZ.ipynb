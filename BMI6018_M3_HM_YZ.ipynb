{
 "cells": [
  {
   "cell_type": "code",
   "execution_count": 1,
   "id": "43c61910",
   "metadata": {},
   "outputs": [
    {
     "name": "stdout",
     "output_type": "stream",
     "text": [
      "Assignment 3\n"
     ]
    }
   ],
   "source": [
    "\"\"\"BMI 6018 Fall 2022 \n",
    "\n",
    "Instructions: For this assignment, please return all answers as variables in your\n",
    ".py file. You will quickly note that you will need to find answers outside the\n",
    "class lectures. This is not an accident! You will need to become professionally\n",
    "comfortable with looking things up via the python docs and google. \n",
    "\n",
    "Ensure that all variables are labelled according to the example. IE the answer\n",
    "to problem 1 part c should be labelled one_c. While all questions are answerable\n",
    "with a single line of code, you are free to use helper variables so long as they\n",
    "are helpfully/informatively named. \n",
    "\n",
    "I should be able to open your .py file and run it without errors. I will **not** be \n",
    "debugging your code for you. If your file does not run, it will **not** be graded. \n",
    "If you are unsure if your file will run, open up a chpc terminal and test it there.\n",
    "\n",
    "For this assignment, please only use base python files types. That is: there \n",
    "should be no import calls in your file save my use of sys at the end.\n",
    "\n",
    "Example Problem\n",
    "\n",
    "0.a Create a list of strings\n",
    "0.b Using a str method, capitalize one of the elements in the list using a slice\n",
    "0.c Coerce one character of the list to display as a hex\n",
    "\n",
    "zero_a = ['first','second','third','fourth','fifth']\n",
    "zero_b = zero_a[1].upper()\n",
    "zero_c = hex(ord(zero_a[1][1]))\n",
    "\n",
    "#Problem 1: Lists, Sets and Coersion\n",
    "\n",
    "1.a Create a list of integers no fewer than 10 items from 0 to 9.\n",
    " .b Add 3 to the 5th indexed element\n",
    " .c Coerce all elements in the list to floats using list comprehension\n",
    " .d Coerce the list to a set\n",
    " .e Using a method, append int 10 to the set\n",
    " .f Using a method, pop an item from the set\n",
    " .g Using a length counting function, count the number of items in the set\n",
    " .h Check if the number of items in the set is the same as the \n",
    "    number of items in the list\n",
    " .i Coerce the set to a list and use the \"+\" operator combine the list to the list from 1.a\n",
    " .j Coerce 1.i to a set\n",
    " .k Count the number of elements in the 1.j\n",
    "\n",
    "\n",
    "\n",
    "Problem 2: Dictionary woes\n",
    "\n",
    "2.a Combine the three sample dictionaries (given below) into a nested dictionary (nested in programming means joined), named \n",
    "    two_a, ensure the key names are the same as the dictionary names.\n",
    " .b Using keys, retrieve the Dango's name from 2.a\n",
    " .c Using keys, update the value of Mochi's year to 2018. This should not be a variable\n",
    "    and should simply update 2.a.\n",
    " .d Manually create a dictionary that has a single level and contains each patient\n",
    "    as the key and the year as the value. Set Mochi's year to 2019.'\n",
    " .e Coerce the keys of 2.d into a list\n",
    " .f Coerce the values of 2.d into a list\n",
    " .g Use the zip function to combine 2.e and 2.f into a dictionary again\n",
    "\n",
    "\n",
    "two_patient_dictionary_kinoko = {\n",
    "  \"name\" : \"Kinoko\",\n",
    "  \"year\" : 2021\n",
    "}\n",
    "two_patient_dictionary_dango = {\n",
    "  \"name\" : \"Dango\",\n",
    "  \"year\" : 2019\n",
    "}\n",
    "two_patient_dictionary_mochi  = {\n",
    "  \"name\" : \"Mochi\",\n",
    "  \"year\" : 2020\n",
    "}\n",
    "\n",
    "\n",
    "\n",
    "Problem 3: Set combinations\n",
    "\n",
    "Given the predefined sets below and using set methods\n",
    "3.a Is set E a subset of set A\n",
    " .b Is set E a strict subset of set A\n",
    " .c Create a set that is the intersection of set A and set B\n",
    " .d Create a set that is the union of sets C, D and E\n",
    " .e add 9 to the set\n",
    " .f Using == compare this set to the list in one_a\n",
    " .g Explain why they are not the same. What would you need to change if you\n",
    "    wanted this to be True?\n",
    " \n",
    "\n",
    "three_setA = {1,2,3,4,5}\n",
    "three_setB = {2,3,4,5,6}\n",
    "three_setC = {3,5,7,9}\n",
    "three_setD = {2,4,6,8}\n",
    "three_setE = {1,2,3,4}\n",
    "\n",
    "\n",
    "\n",
    "Problem 4: Changing variable types\n",
    "\n",
    "For each step you will modify a variable, then append the type of the variable\n",
    "to a list. Do not recreate the list variable, it should be a running list of \n",
    "types.\n",
    "\n",
    "4.a Create a variable of type int with the value of 8\n",
    " .b Create an empty list \n",
    " .c Using type(), add the type of 4.a to this list\n",
    " .d Add 0.39 to 4.c\n",
    " .e append the type of 0.39 to the list\n",
    " .f exponentiate to the -10, ie: 4.d^-10,(hint: there might be an artihmetic operator to do so) round it to no \n",
    "    decimal places, and append to list.\n",
    " .g append the type to the list\n",
    " \n",
    " \n",
    "Problem 5: More variable type changes\n",
    "\n",
    "Continue from where you left off in Problem 4.\n",
    "\n",
    "5.a Manually create a dictionary where the values are items in the list from where we left in \n",
    "    problem 4, and the keys should be their index in the list. Print the dictionary.\n",
    " .b Add 300 and coerce it into a string\n",
    " .c append the type to the list\n",
    " .d slice the string up to the 2nd element\n",
    " .e append the type to the list\n",
    " .f use list comprehension to convert this into a new list of integers\n",
    " .g append the type to the list\n",
    " .h append the type of three_setA to the list\n",
    "\"\"\"\n",
    "\n",
    "#Start your assignment here\n",
    "print(\"Assignment 3\")\n",
    "\n"
   ]
  },
  {
   "cell_type": "code",
   "execution_count": 2,
   "id": "279c066a-53e4-4343-bb22-1eb21b35f3bf",
   "metadata": {},
   "outputs": [],
   "source": [
    "one_a = [0,1,2,3,4,5,6,7,8,9]"
   ]
  },
  {
   "cell_type": "code",
   "execution_count": 3,
   "id": "8e8d110f-1595-4b60-a417-3cad490b4c03",
   "metadata": {},
   "outputs": [],
   "source": [
    "one_b = one_a\n",
    "one_b.insert(5,3)"
   ]
  },
  {
   "cell_type": "code",
   "execution_count": 4,
   "id": "5cb0cba5-d497-4fdd-a715-e3b40642386a",
   "metadata": {},
   "outputs": [],
   "source": [
    "one_c = [float(x) for x in one_a]"
   ]
  },
  {
   "cell_type": "code",
   "execution_count": 5,
   "id": "1fac3543-0b6b-4245-a98a-4f8ea3424fa5",
   "metadata": {},
   "outputs": [],
   "source": [
    "one_d = set(one_a)"
   ]
  },
  {
   "cell_type": "code",
   "execution_count": 6,
   "id": "5699bdc4-2b4c-48db-9afd-333914013dca",
   "metadata": {},
   "outputs": [
    {
     "name": "stdout",
     "output_type": "stream",
     "text": [
      "{0, 1, 2, 3, 4, 5, 6, 7, 8, 9, 10}\n"
     ]
    }
   ],
   "source": [
    "one_e = one_d\n",
    "one_e.add(10)\n",
    "print(one_e)"
   ]
  },
  {
   "cell_type": "code",
   "execution_count": 7,
   "id": "20e3fb13-a65e-4054-a532-e68346c979b7",
   "metadata": {},
   "outputs": [
    {
     "name": "stdout",
     "output_type": "stream",
     "text": [
      "{1, 2, 3, 4, 5, 6, 7, 8, 9, 10}\n"
     ]
    }
   ],
   "source": [
    "one_f = one_d\n",
    "one_f.remove(0)\n",
    "print(one_f)"
   ]
  },
  {
   "cell_type": "code",
   "execution_count": 8,
   "id": "07111504-3a04-42de-8036-2680eac3c0fd",
   "metadata": {},
   "outputs": [
    {
     "name": "stdout",
     "output_type": "stream",
     "text": [
      "10\n"
     ]
    }
   ],
   "source": [
    "one_g = len(one_f)\n",
    "print(one_g)"
   ]
  },
  {
   "cell_type": "code",
   "execution_count": 9,
   "id": "795c9548-95d7-4dc4-a9de-e19bbb6f3ceb",
   "metadata": {},
   "outputs": [
    {
     "name": "stdout",
     "output_type": "stream",
     "text": [
      "False\n"
     ]
    }
   ],
   "source": [
    "one_h = len(one_f) == len(one_a)\n",
    "print(one_h)"
   ]
  },
  {
   "cell_type": "code",
   "execution_count": 10,
   "id": "9f8db18a-f8fc-42b9-aa19-cc495593151e",
   "metadata": {},
   "outputs": [
    {
     "name": "stdout",
     "output_type": "stream",
     "text": [
      "[1, 2, 3, 4, 5, 6, 7, 8, 9, 10, 0, 1, 2, 3, 4, 3, 5, 6, 7, 8, 9]\n"
     ]
    }
   ],
   "source": [
    "one_i = list(one_f) + one_a\n",
    "print(one_i)"
   ]
  },
  {
   "cell_type": "code",
   "execution_count": 11,
   "id": "9efc4dd7-fb2e-4094-9e3c-905031c3a2f3",
   "metadata": {},
   "outputs": [
    {
     "name": "stdout",
     "output_type": "stream",
     "text": [
      "{0, 1, 2, 3, 4, 5, 6, 7, 8, 9, 10}\n"
     ]
    }
   ],
   "source": [
    "one_j = set(one_i)\n",
    "print(one_j)"
   ]
  },
  {
   "cell_type": "code",
   "execution_count": 12,
   "id": "3105ca84-5b55-49d7-8f7d-9b512f6caffe",
   "metadata": {},
   "outputs": [
    {
     "name": "stdout",
     "output_type": "stream",
     "text": [
      "11\n"
     ]
    }
   ],
   "source": [
    "one_k = len(one_j)\n",
    "print(one_k)"
   ]
  },
  {
   "cell_type": "code",
   "execution_count": 13,
   "id": "9a27be08-ecb7-4ad3-91dc-f402a04dc0d7",
   "metadata": {},
   "outputs": [
    {
     "name": "stdout",
     "output_type": "stream",
     "text": [
      "{'patient1': {'name': 'Kinoko', 'year': 2021}, 'patient2': {'name': 'Dango', 'year': 2019}, 'patient3': {'name': 'Mochi', 'year': 2020}}\n"
     ]
    }
   ],
   "source": [
    "two_patient_dictionary_kinoko = {\n",
    "  \"name\" : \"Kinoko\",\n",
    "  \"year\" : 2021\n",
    "}\n",
    "two_patient_dictionary_dango = {\n",
    "  \"name\" : \"Dango\",\n",
    "  \"year\" : 2019\n",
    "}\n",
    "two_patient_dictionary_mochi  = {\n",
    "  \"name\" : \"Mochi\",\n",
    "  \"year\" : 2020\n",
    "}\n",
    "two_a = {\n",
    "    \"patient1\" : two_patient_dictionary_kinoko,\n",
    "    \"patient2\" : two_patient_dictionary_dango,\n",
    "    \"patient3\" : two_patient_dictionary_mochi\n",
    "}\n",
    "print(two_a)"
   ]
  },
  {
   "cell_type": "code",
   "execution_count": 14,
   "id": "6eb2bd75-6846-494f-a588-916c35f94c8d",
   "metadata": {},
   "outputs": [
    {
     "name": "stdout",
     "output_type": "stream",
     "text": [
      "{'patient1': {'name': 'Kinoko', 'year': 2021}, 'patient3': {'name': 'Mochi', 'year': 2020}}\n"
     ]
    }
   ],
   "source": [
    "two_b = two_a\n",
    "two_b.pop(\"patient2\")\n",
    "print(two_b)\n"
   ]
  },
  {
   "cell_type": "code",
   "execution_count": 15,
   "id": "ef40fe08-2fd2-433f-bea4-e76625a58f59",
   "metadata": {},
   "outputs": [
    {
     "name": "stdout",
     "output_type": "stream",
     "text": [
      "{'patient1': {'name': 'Kinoko', 'year': 2021}, 'patient3': {'name': 'Mochi', 'year': '2018'}}\n"
     ]
    }
   ],
   "source": [
    "two_a.update({\"patient3\":{'name': 'Mochi',\"year\":\"2018\"}})\n",
    "print(two_a)"
   ]
  },
  {
   "cell_type": "code",
   "execution_count": 16,
   "id": "0c609681-aea3-484d-bf56-71a718716a60",
   "metadata": {},
   "outputs": [
    {
     "name": "stdout",
     "output_type": "stream",
     "text": [
      "{'kinoko': '2021', 'Dango': '2019', 'Mochi': '2019'}\n"
     ]
    }
   ],
   "source": [
    "two_d = {\n",
    "    \"kinoko\" : \"2021\",\n",
    "    \"Dango\" : \"2019\",\n",
    "    \"Mochi\" : \"2019\"\n",
    "}\n",
    "print(two_d)"
   ]
  },
  {
   "cell_type": "code",
   "execution_count": 17,
   "id": "ac00b76c-f30f-4c7f-b078-cd8e849d2607",
   "metadata": {},
   "outputs": [
    {
     "name": "stdout",
     "output_type": "stream",
     "text": [
      "['kinoko', 'Dango', 'Mochi']\n"
     ]
    }
   ],
   "source": [
    "two_e = list(two_d)\n",
    "print(two_e)"
   ]
  },
  {
   "cell_type": "code",
   "execution_count": 18,
   "id": "7de7305c-3770-4728-99be-012d49db7236",
   "metadata": {},
   "outputs": [
    {
     "name": "stdout",
     "output_type": "stream",
     "text": [
      "['2021', '2019', '2019']\n"
     ]
    }
   ],
   "source": [
    "two_f = list(two_d.values())\n",
    "print(two_f)"
   ]
  },
  {
   "cell_type": "code",
   "execution_count": 19,
   "id": "fc9d37f3-d22d-46d3-8cb5-7527856661ae",
   "metadata": {},
   "outputs": [
    {
     "name": "stdout",
     "output_type": "stream",
     "text": [
      "{'kinoko': '2021', 'Dango': '2019', 'Mochi': '2019'}\n"
     ]
    }
   ],
   "source": [
    "keys = two_e\n",
    "values = two_f\n",
    "two_g = dict(zip(keys, values))\n",
    "print(two_g)"
   ]
  },
  {
   "cell_type": "code",
   "execution_count": 20,
   "id": "6fd15db2-56a7-4443-acee-bdf28599c59f",
   "metadata": {},
   "outputs": [],
   "source": [
    "three_setA = {1,2,3,4,5}\n",
    "three_setB = {2,3,4,5,6}\n",
    "three_setC = {3,5,7,9}\n",
    "three_setD = {2,4,6,8}\n",
    "three_setE = {1,2,3,4}"
   ]
  },
  {
   "cell_type": "code",
   "execution_count": 21,
   "id": "90145e3c-de3b-4a34-802c-f6b39fda6f7e",
   "metadata": {},
   "outputs": [
    {
     "name": "stdout",
     "output_type": "stream",
     "text": [
      "True\n"
     ]
    }
   ],
   "source": [
    "three_a = three_setE.issubset(three_setA)\n",
    "print(three_a)"
   ]
  },
  {
   "cell_type": "code",
   "execution_count": 22,
   "id": "bca09e2d-d536-45e8-ab6d-afe759019499",
   "metadata": {},
   "outputs": [
    {
     "name": "stdout",
     "output_type": "stream",
     "text": [
      "True\n"
     ]
    }
   ],
   "source": [
    "three_b = three_setE.issubset(three_setA) and three_setE != three_setA\n",
    "print(three_b)"
   ]
  },
  {
   "cell_type": "code",
   "execution_count": 23,
   "id": "b91ee3c1-c666-48ac-a8bb-1d1c37655009",
   "metadata": {},
   "outputs": [
    {
     "name": "stdout",
     "output_type": "stream",
     "text": [
      "{2, 3, 4, 5}\n"
     ]
    }
   ],
   "source": [
    "three_c = three_setA.intersection(three_setB)\n",
    "print(three_c)"
   ]
  },
  {
   "cell_type": "code",
   "execution_count": 24,
   "id": "4bc191c2-0e0d-4488-8dab-dbc82e155874",
   "metadata": {},
   "outputs": [
    {
     "name": "stdout",
     "output_type": "stream",
     "text": [
      "{1, 2, 3, 4, 5, 6, 7, 8, 9}\n"
     ]
    }
   ],
   "source": [
    "three_d = three_setC.union(three_setD, three_setE)\n",
    "print(three_d)"
   ]
  },
  {
   "cell_type": "code",
   "execution_count": 25,
   "id": "b26be917-dabf-41bd-b404-fdff3f1faea6",
   "metadata": {},
   "outputs": [
    {
     "name": "stdout",
     "output_type": "stream",
     "text": [
      "{1, 2, 3, 4, 5, 6, 7, 8, 9}\n"
     ]
    }
   ],
   "source": [
    "three_d.add(9)\n",
    "print(three_d)"
   ]
  },
  {
   "cell_type": "code",
   "execution_count": 26,
   "id": "32672f11-3111-4e10-bb61-460a7b89c4a6",
   "metadata": {},
   "outputs": [
    {
     "name": "stdout",
     "output_type": "stream",
     "text": [
      "False\n"
     ]
    }
   ],
   "source": [
    "list_comparison = list(three_d) == list(one_a)\n",
    "print(list_comparison)"
   ]
  },
  {
   "cell_type": "code",
   "execution_count": 27,
   "id": "18638351-96a4-4ac1-9cb5-aed568ec4bbc",
   "metadata": {},
   "outputs": [],
   "source": [
    "# three_g\n",
    "# because set and list are different. sets are unique, unordered while lists are ordered. \n",
    "# In order for this to be true, the set need to be converted to list, \n",
    "# and sort the list(three_d) and list(one_a)."
   ]
  },
  {
   "cell_type": "code",
   "execution_count": 28,
   "id": "10096b86-26b0-4236-a2fd-54d80fb6079a",
   "metadata": {},
   "outputs": [],
   "source": [
    "four_a = 8"
   ]
  },
  {
   "cell_type": "code",
   "execution_count": 29,
   "id": "4278a510-823c-4f8d-854e-721f7f4a6d5e",
   "metadata": {},
   "outputs": [],
   "source": [
    "four_b = []"
   ]
  },
  {
   "cell_type": "code",
   "execution_count": 30,
   "id": "dc0cda01-d853-4d45-ab7f-ae51231463dd",
   "metadata": {},
   "outputs": [
    {
     "name": "stdout",
     "output_type": "stream",
     "text": [
      "[<class 'int'>]\n"
     ]
    }
   ],
   "source": [
    "four_b.append(type(four_a))\n",
    "print(four_b)"
   ]
  },
  {
   "cell_type": "code",
   "execution_count": 31,
   "id": "24cba4d1-e25f-455e-b7e0-d33a8d99c8f7",
   "metadata": {},
   "outputs": [
    {
     "name": "stdout",
     "output_type": "stream",
     "text": [
      "[<class 'int'>, 0.39]\n"
     ]
    }
   ],
   "source": [
    "four_b.append(0.39) #problem 4.d\n",
    "print(four_b)"
   ]
  },
  {
   "cell_type": "code",
   "execution_count": 32,
   "id": "4a5104c6-003e-428d-ba0c-6b28f4a4214a",
   "metadata": {},
   "outputs": [
    {
     "name": "stdout",
     "output_type": "stream",
     "text": [
      "[<class 'int'>, 0.39, <class 'float'>]\n"
     ]
    }
   ],
   "source": [
    "four_b.append(type(0.39)) #problem 4.e\n",
    "print(four_b)"
   ]
  },
  {
   "cell_type": "code",
   "execution_count": 33,
   "id": "eb957b33-dc9e-4df5-88f2-e0687fb8bd03",
   "metadata": {},
   "outputs": [
    {
     "name": "stdout",
     "output_type": "stream",
     "text": [
      "[<class 'int'>, 0.39, <class 'float'>, 12284.0]\n"
     ]
    }
   ],
   "source": [
    "four_g = round(0.39 ** -10, 0) #problem 4.f\n",
    "four_b.append(four_g)\n",
    "print(four_b)"
   ]
  },
  {
   "cell_type": "code",
   "execution_count": 34,
   "id": "56e0e3cf-bca7-4f44-a602-f6f0f834c7cf",
   "metadata": {},
   "outputs": [
    {
     "name": "stdout",
     "output_type": "stream",
     "text": [
      "[<class 'int'>, 0.39, <class 'float'>, 12284.0, <class 'float'>]\n"
     ]
    }
   ],
   "source": [
    "four_b.append(type(four_g)) #problem 4.g\n",
    "print(four_b)"
   ]
  },
  {
   "cell_type": "code",
   "execution_count": 35,
   "id": "1e650303-aae5-4224-ac15-74619aa9d164",
   "metadata": {
    "scrolled": true
   },
   "outputs": [
    {
     "name": "stdout",
     "output_type": "stream",
     "text": [
      "{'0': 'int', '1': 0.39, '2': 'float', '3': 12284.0, '4': 'float'}\n"
     ]
    }
   ],
   "source": [
    "five_a = {\"0\":'int',\"1\":0.39,\"2\":\"float\",\"3\":12284.0,\"4\":\"float\"}\n",
    "print(five_a)"
   ]
  },
  {
   "cell_type": "code",
   "execution_count": 36,
   "id": "6e4984dc-3b83-4b0d-a2f1-12d047604223",
   "metadata": {},
   "outputs": [],
   "source": [
    "five_b = str(300)"
   ]
  },
  {
   "cell_type": "code",
   "execution_count": 37,
   "id": "730ecd5b-0e8a-4355-b096-10d15bbb07b3",
   "metadata": {},
   "outputs": [
    {
     "name": "stdout",
     "output_type": "stream",
     "text": [
      "[<class 'int'>, 0.39, <class 'float'>, 12284.0, <class 'float'>, <class 'str'>]\n"
     ]
    }
   ],
   "source": [
    "four_b.append(type(five_b)) # problem 5.c\n",
    "print(four_b)"
   ]
  },
  {
   "cell_type": "code",
   "execution_count": 38,
   "id": "918f144d-830d-4f73-85e0-78723cbdf493",
   "metadata": {},
   "outputs": [
    {
     "name": "stdout",
     "output_type": "stream",
     "text": [
      "30\n"
     ]
    }
   ],
   "source": [
    "five_d = five_b[0:2]\n",
    "print(five_d)"
   ]
  },
  {
   "cell_type": "code",
   "execution_count": 39,
   "id": "69bb3ee8-ae3e-4442-8a24-ceaa1f45fa1f",
   "metadata": {},
   "outputs": [
    {
     "name": "stdout",
     "output_type": "stream",
     "text": [
      "[<class 'int'>, 0.39, <class 'float'>, 12284.0, <class 'float'>, <class 'str'>, <class 'str'>]\n"
     ]
    }
   ],
   "source": [
    "four_b.append(type(five_d)) # problem 5.e\n",
    "print(four_b)"
   ]
  },
  {
   "cell_type": "code",
   "execution_count": 41,
   "id": "f8b8e3b0-cb7c-4788-b65c-3d5dbaf18057",
   "metadata": {},
   "outputs": [
    {
     "name": "stdout",
     "output_type": "stream",
     "text": [
      "[3, 0]\n"
     ]
    }
   ],
   "source": [
    "five_f = [int(x) for x in five_d]\n",
    "print(five_f)"
   ]
  },
  {
   "cell_type": "code",
   "execution_count": 42,
   "id": "8dbec521-7785-40bc-b42d-1010e87e7140",
   "metadata": {},
   "outputs": [
    {
     "name": "stdout",
     "output_type": "stream",
     "text": [
      "[<class 'int'>, 0.39, <class 'float'>, 12284.0, <class 'float'>, <class 'str'>, <class 'str'>, <class 'list'>]\n"
     ]
    }
   ],
   "source": [
    "four_b.append(type(five_f)) #problem 5.g\n",
    "print(four_b)"
   ]
  },
  {
   "cell_type": "code",
   "execution_count": 43,
   "id": "a49b0574-cb3f-48b3-9b57-012cefce4a46",
   "metadata": {},
   "outputs": [
    {
     "name": "stdout",
     "output_type": "stream",
     "text": [
      "[<class 'int'>, 0.39, <class 'float'>, 12284.0, <class 'float'>, <class 'str'>, <class 'str'>, <class 'list'>, <class 'set'>]\n"
     ]
    }
   ],
   "source": [
    "four_b.append(type(three_setA))\n",
    "print(four_b)"
   ]
  },
  {
   "cell_type": "code",
   "execution_count": null,
   "id": "d9c21825-3a12-4b85-b283-df319cfb1795",
   "metadata": {},
   "outputs": [],
   "source": []
  },
  {
   "cell_type": "code",
   "execution_count": null,
   "id": "15ff2597-7407-4613-9aae-a3476eb3fbb5",
   "metadata": {},
   "outputs": [],
   "source": []
  },
  {
   "cell_type": "code",
   "execution_count": null,
   "id": "448020ae-1427-4bed-9ca0-253d123a444d",
   "metadata": {},
   "outputs": [],
   "source": []
  },
  {
   "cell_type": "code",
   "execution_count": null,
   "id": "5a5a3b76-fd22-4ca3-9e90-1fd6f258cc6b",
   "metadata": {},
   "outputs": [],
   "source": []
  },
  {
   "cell_type": "code",
   "execution_count": null,
   "id": "b6c37c8a-723b-40a5-9830-412da66b2d30",
   "metadata": {},
   "outputs": [],
   "source": []
  },
  {
   "cell_type": "code",
   "execution_count": null,
   "id": "8e0dffb2-8040-4267-be8e-075af2bfe710",
   "metadata": {},
   "outputs": [],
   "source": []
  },
  {
   "cell_type": "code",
   "execution_count": null,
   "id": "7ec70261-2d3c-42e3-821e-6bf2aff351e3",
   "metadata": {},
   "outputs": [],
   "source": []
  },
  {
   "cell_type": "code",
   "execution_count": null,
   "id": "84de9497-9694-4e8e-9c6f-b4487e7e889e",
   "metadata": {},
   "outputs": [],
   "source": []
  },
  {
   "cell_type": "code",
   "execution_count": null,
   "id": "39a906db-9509-4460-a9ca-5bb586c2d9b6",
   "metadata": {},
   "outputs": [],
   "source": []
  },
  {
   "cell_type": "code",
   "execution_count": null,
   "id": "70d7215b-b663-4200-8b15-3147742a3944",
   "metadata": {},
   "outputs": [],
   "source": []
  },
  {
   "cell_type": "code",
   "execution_count": null,
   "id": "b1396973-fc25-45b0-812c-1206cd464f5a",
   "metadata": {},
   "outputs": [],
   "source": []
  },
  {
   "cell_type": "code",
   "execution_count": null,
   "id": "5594b1e8-21bf-47b9-8987-c472f02826af",
   "metadata": {},
   "outputs": [],
   "source": []
  },
  {
   "cell_type": "code",
   "execution_count": null,
   "id": "d3088277-a164-4c9b-b3b5-f167f598442f",
   "metadata": {},
   "outputs": [],
   "source": []
  },
  {
   "cell_type": "code",
   "execution_count": null,
   "id": "aa5e515a-2100-44e2-bc5c-4f6e53edc214",
   "metadata": {},
   "outputs": [],
   "source": []
  },
  {
   "cell_type": "code",
   "execution_count": null,
   "id": "2cb23e86-ec70-40c6-85d4-7d821740ccc8",
   "metadata": {},
   "outputs": [],
   "source": []
  },
  {
   "cell_type": "code",
   "execution_count": null,
   "id": "02b4fdf8-0729-4489-9482-0c9d9d6f2f42",
   "metadata": {},
   "outputs": [],
   "source": []
  },
  {
   "cell_type": "code",
   "execution_count": null,
   "id": "e546e1a0-ad56-4b60-90c7-5fcc52d741e5",
   "metadata": {},
   "outputs": [],
   "source": []
  },
  {
   "cell_type": "code",
   "execution_count": null,
   "id": "67ad4729-21c2-4d66-ab2a-d36763eb7cf6",
   "metadata": {},
   "outputs": [],
   "source": []
  },
  {
   "cell_type": "code",
   "execution_count": null,
   "id": "40587fb0-9f9c-491e-a3cc-1ec97bee71ef",
   "metadata": {},
   "outputs": [],
   "source": []
  },
  {
   "cell_type": "code",
   "execution_count": null,
   "id": "1bc5a375-aec6-4ec8-aa51-23eea0117f3d",
   "metadata": {},
   "outputs": [],
   "source": []
  },
  {
   "cell_type": "code",
   "execution_count": null,
   "id": "aa9cbd75-bb61-49c5-be01-576384515ff7",
   "metadata": {},
   "outputs": [],
   "source": []
  },
  {
   "cell_type": "code",
   "execution_count": null,
   "id": "a75185c5-96a7-4f83-966e-b82d616e0be1",
   "metadata": {},
   "outputs": [],
   "source": []
  },
  {
   "cell_type": "code",
   "execution_count": null,
   "id": "e2c3ea9e-ffb6-4994-9129-706993b10337",
   "metadata": {},
   "outputs": [],
   "source": []
  },
  {
   "cell_type": "code",
   "execution_count": null,
   "id": "4b3138b3-a0ae-4624-8b2e-a2beb64a79c5",
   "metadata": {},
   "outputs": [],
   "source": []
  },
  {
   "cell_type": "code",
   "execution_count": null,
   "id": "91168012-5f16-4e7e-ba1f-9d4a0496f2d7",
   "metadata": {},
   "outputs": [],
   "source": []
  },
  {
   "cell_type": "code",
   "execution_count": null,
   "id": "0e9df06c-e1c7-47ff-b0da-6d1e8f5d63d9",
   "metadata": {},
   "outputs": [],
   "source": []
  },
  {
   "cell_type": "code",
   "execution_count": null,
   "id": "78cf91a6-8f47-43b2-8bdf-0b2a8dbceaf4",
   "metadata": {},
   "outputs": [],
   "source": []
  },
  {
   "cell_type": "code",
   "execution_count": null,
   "id": "c893ce35-bab7-40cd-a476-abc4fc05d3fa",
   "metadata": {},
   "outputs": [],
   "source": []
  },
  {
   "cell_type": "code",
   "execution_count": null,
   "id": "1da24ab1-a31a-4c4e-a0b7-758931101610",
   "metadata": {},
   "outputs": [],
   "source": []
  },
  {
   "cell_type": "code",
   "execution_count": null,
   "id": "8be790ac-4583-4c8b-a511-483f8e6432c5",
   "metadata": {},
   "outputs": [],
   "source": []
  },
  {
   "cell_type": "code",
   "execution_count": null,
   "id": "78fdfbdc-b000-40a2-8741-844995f82616",
   "metadata": {},
   "outputs": [],
   "source": []
  },
  {
   "cell_type": "code",
   "execution_count": null,
   "id": "5dcb665a-285c-4580-956a-48b91d96dfcf",
   "metadata": {},
   "outputs": [],
   "source": []
  },
  {
   "cell_type": "code",
   "execution_count": null,
   "id": "17176bc8-92ec-4e9a-aaca-a249d4425674",
   "metadata": {},
   "outputs": [],
   "source": []
  },
  {
   "cell_type": "code",
   "execution_count": null,
   "id": "b9d15f8f-6af3-46a1-87ed-e556b7a5d696",
   "metadata": {},
   "outputs": [],
   "source": []
  },
  {
   "cell_type": "code",
   "execution_count": null,
   "id": "b7eb4f0b-124c-4053-80f2-da1b9e444195",
   "metadata": {},
   "outputs": [],
   "source": []
  },
  {
   "cell_type": "code",
   "execution_count": null,
   "id": "b0c85425-2e2d-4171-857a-d453f468581b",
   "metadata": {},
   "outputs": [],
   "source": []
  },
  {
   "cell_type": "code",
   "execution_count": null,
   "id": "10b4ca13-036d-4754-8c89-003303f5aa1c",
   "metadata": {},
   "outputs": [],
   "source": []
  },
  {
   "cell_type": "code",
   "execution_count": null,
   "id": "4f0ad426-d3bc-410e-af9b-a1adb7232834",
   "metadata": {},
   "outputs": [],
   "source": []
  },
  {
   "cell_type": "code",
   "execution_count": null,
   "id": "9f3ee9d7-c368-47db-94c2-bdc553baa918",
   "metadata": {},
   "outputs": [],
   "source": []
  },
  {
   "cell_type": "code",
   "execution_count": null,
   "id": "076244b9-0e87-47c2-bc89-ec6d5d25d687",
   "metadata": {},
   "outputs": [],
   "source": []
  },
  {
   "cell_type": "code",
   "execution_count": null,
   "id": "2968a49c-5602-43bc-9e11-89955fca0731",
   "metadata": {},
   "outputs": [],
   "source": []
  },
  {
   "cell_type": "code",
   "execution_count": null,
   "id": "ba6f3d0b-29dd-4833-89fa-88f788292329",
   "metadata": {},
   "outputs": [],
   "source": []
  },
  {
   "cell_type": "code",
   "execution_count": null,
   "id": "554b3772-70cb-4165-9a4b-3c4a48eb84ff",
   "metadata": {},
   "outputs": [],
   "source": []
  },
  {
   "cell_type": "code",
   "execution_count": null,
   "id": "d16bdab7-4842-4580-9404-6784310f5302",
   "metadata": {},
   "outputs": [],
   "source": []
  },
  {
   "cell_type": "code",
   "execution_count": null,
   "id": "22241ff2-8326-41fb-91e7-03da84e810f5",
   "metadata": {},
   "outputs": [],
   "source": []
  }
 ],
 "metadata": {
  "kernelspec": {
   "display_name": "Python 3 (ipykernel)",
   "language": "python",
   "name": "python3"
  },
  "language_info": {
   "codemirror_mode": {
    "name": "ipython",
    "version": 3
   },
   "file_extension": ".py",
   "mimetype": "text/x-python",
   "name": "python",
   "nbconvert_exporter": "python",
   "pygments_lexer": "ipython3",
   "version": "3.11.5"
  }
 },
 "nbformat": 4,
 "nbformat_minor": 5
}

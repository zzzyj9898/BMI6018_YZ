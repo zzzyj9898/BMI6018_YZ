{
 "cells": [
  {
   "cell_type": "code",
   "execution_count": 4,
   "id": "a73dd5aa-cc5c-4c69-ae67-8ac958d9697d",
   "metadata": {},
   "outputs": [
    {
     "name": "stdout",
     "output_type": "stream",
     "text": [
      "18.16590212458495\n"
     ]
    }
   ],
   "source": [
    "#Question 1 (Compute the euclidean distance between series (points) p and q, without using a packaged formula.\n",
    "import pandas as pd\n",
    "\n",
    "p = pd.Series([1, 2, 3, 4, 5, 6, 7, 8, 9, 10])\n",
    "q = pd.Series([10, 9, 8, 7, 6, 5, 4, 3, 2, 1])\n",
    "\n",
    "A_1 = sum((p - q) ** 2) ** 0.5\n",
    "print(A_1)"
   ]
  },
  {
   "cell_type": "code",
   "execution_count": 5,
   "id": "5c9a2498-0ecf-40c8-ae2b-7ffacec917c7",
   "metadata": {},
   "outputs": [
    {
     "name": "stdout",
     "output_type": "stream",
     "text": [
      "    c   b   a   d   e\n",
      "0   2   1   0   3   4\n",
      "1   7   6   5   8   9\n",
      "2  12  11  10  13  14\n",
      "3  17  16  15  18  19\n"
     ]
    }
   ],
   "source": [
    "# question 2:Change the order of columns of a dataframe. Interchange columns 'a' and 'c'.\n",
    "\n",
    "import numpy as np\n",
    "\n",
    "df = pd.DataFrame(np.arange(20).reshape(-1, 5), columns=list('abcde'))\n",
    "df = df[['c', 'b', 'a', 'd', 'e']]\n",
    "print(df)"
   ]
  },
  {
   "cell_type": "code",
   "execution_count": 6,
   "id": "ab0af337-292e-4c19-a956-32e888f6aee9",
   "metadata": {},
   "outputs": [
    {
     "name": "stdout",
     "output_type": "stream",
     "text": [
      "    a   b   c   d   e\n",
      "0   2   1   0   3   4\n",
      "1   7   6   5   8   9\n",
      "2  12  11  10  13  14\n",
      "3  17  16  15  18  19\n"
     ]
    }
   ],
   "source": [
    "# question 3: Change the order of columns of a dataframe.  Create a generic function to interchange two columns, without hardcoding column names.\n",
    "df = pd.DataFrame(np.arange(20).reshape(-1, 5), columns=list('abcde'))\n",
    "\n",
    "def interchange_columns(dataframe, col1, col2):\n",
    "    dataframe[col1], dataframe[col2] = dataframe[col2].copy(), dataframe[col1].copy()\n",
    "    return dataframe\n",
    "\n",
    "A_3 = interchange_columns(df, 'a', 'c') # using column a and column c for example to try\n",
    "print(A_3)"
   ]
  },
  {
   "cell_type": "code",
   "execution_count": 7,
   "id": "44de541b-413b-4c7d-a740-d9610034c776",
   "metadata": {},
   "outputs": [
    {
     "name": "stdout",
     "output_type": "stream",
     "text": [
      "   random\n",
      "0  0.0123\n",
      "1  0.2164\n",
      "2  0.0000\n",
      "3  0.0002\n"
     ]
    }
   ],
   "source": [
    "#Question 4 Format or suppress scientific notations in a pandas dataframe. Suppress scientific notations like ‘e-03’ in df and print upto 4 numbers after decimal.\n",
    "\n",
    "A_4 = pd.DataFrame(np.random.random(4)**10, columns=['random'])\n",
    "pd.options.display.float_format = '{:.4f}'.format\n",
    "print(A_4)\n"
   ]
  },
  {
   "cell_type": "code",
   "execution_count": 8,
   "id": "154667e0-735e-4f87-b7f3-e9af7e81a82d",
   "metadata": {},
   "outputs": [
    {
     "name": "stdout",
     "output_type": "stream",
     "text": [
      "    p   q   r   s nearest_row    dist\n",
      "a  60  55   3  38           j  9.6437\n",
      "b  85   6  72  57           d 65.2917\n",
      "c  40  68  60  59           d 38.0000\n",
      "d  51  49  49  30           c 38.0000\n",
      "e  95  40  22   1           j 51.0588\n",
      "f  30  92  33  30           c 47.3920\n",
      "g  57  45   7  77           h 38.0000\n",
      "h  34  74  12  70           i 37.1484\n",
      "i  57  93  33  77           h 37.1484\n",
      "j  65  47   5  38           a  9.6437\n"
     ]
    }
   ],
   "source": [
    "import pandas as pd\n",
    "import numpy as np\n",
    "\n",
    "# Create the input DataFrame\n",
    "data = np.random.randint(1, 100, 40).reshape(10, -1)\n",
    "df = pd.DataFrame(data, columns=list('pqrs'), index=list('abcdefghij'))\n",
    "\n",
    "# Function to calculate Euclidean distance between two rows\n",
    "def euclidean_distance(row1, row2):\n",
    "    return np.linalg.norm(row1 - row2)\n",
    "\n",
    "# Initialize empty columns for nearest_row and dist\n",
    "df['nearest_row'] = \"\"\n",
    "df['dist'] = 0.0\n",
    "\n",
    "# Iterate through each row to find the nearest row\n",
    "for index, row in df.iterrows():\n",
    "    min_dist = float('inf')\n",
    "    nearest_row = \"\"\n",
    "    \n",
    "    for other_index, other_row in df.iterrows():\n",
    "        if index != other_index:  # Exclude the current row\n",
    "            distance = euclidean_distance(row[['p', 'q', 'r', 's']], other_row[['p', 'q', 'r', 's']])\n",
    "            if distance < min_dist:\n",
    "                min_dist = distance\n",
    "                nearest_row = other_index\n",
    "    \n",
    "    df.at[index, 'nearest_row'] = nearest_row\n",
    "    df.at[index, 'dist'] = min_dist\n",
    "\n",
    "\n",
    "A_5 = df\n",
    "print(A_5)\n",
    "\n",
    "\n",
    "\n"
   ]
  },
  {
   "cell_type": "code",
   "execution_count": 9,
   "id": "5d595427-a016-42fa-8cbd-3b4b74bfc7a8",
   "metadata": {},
   "outputs": [
    {
     "name": "stdout",
     "output_type": "stream",
     "text": [
      "       A      B      C      D      E\n",
      "A 1.0000 0.7560 0.6244 0.4938 0.9286\n",
      "B 0.7560 1.0000 0.9667 0.3636 0.6496\n",
      "C 0.6244 0.9667 1.0000 0.2189 0.5281\n",
      "D 0.4938 0.3636 0.2189 1.0000 0.7202\n",
      "E 0.9286 0.6496 0.5281 0.7202 1.0000\n"
     ]
    }
   ],
   "source": [
    "# Question 6 (15 Points) Correlation is a statistical technique that shows how two variables are related. \n",
    "#Pandas dataframe.corr() method is used for creating the correlation matrix. \n",
    "#It is used to find the pairwise correlation of all columns in the dataframe. Any na values are automatically excluded. \n",
    "#For any non-numeric data type columns in the dataframe it is ignored.\n",
    "\n",
    "\n",
    "data = {'A': [45, 37, 0, 42, 50],\n",
    "        'B': [38, 31, 1, 26, 90],\n",
    "        'C': [10, 15, -10, 17, 100],\n",
    "        'D': [60, 99, 15, 23, 56],\n",
    "        'E': [76, 98, -0.03, 78, 90]}\n",
    "\n",
    "df = pd.DataFrame(data)\n",
    "A_6 = df.corr()\n",
    "print(A_6)\n"
   ]
  }
 ],
 "metadata": {
  "kernelspec": {
   "display_name": "Python 3 (ipykernel)",
   "language": "python",
   "name": "python3"
  },
  "language_info": {
   "codemirror_mode": {
    "name": "ipython",
    "version": 3
   },
   "file_extension": ".py",
   "mimetype": "text/x-python",
   "name": "python",
   "nbconvert_exporter": "python",
   "pygments_lexer": "ipython3",
   "version": "3.11.5"
  }
 },
 "nbformat": 4,
 "nbformat_minor": 5
}

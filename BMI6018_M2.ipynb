{
 "cells": [
  {
   "cell_type": "code",
   "execution_count": 1,
   "id": "0aebe1ca-3b83-406e-9a14-6a35dc76d54c",
   "metadata": {},
   "outputs": [
    {
     "data": {
      "text/plain": [
       "2"
      ]
     },
     "execution_count": 1,
     "metadata": {},
     "output_type": "execute_result"
    }
   ],
   "source": [
    "# Booleans\n",
    "\n",
    " # boolean True + boolean True - boolean False = ?  \n",
    "True + True - False"
   ]
  },
  {
   "cell_type": "code",
   "execution_count": 35,
   "id": "e417f934-32ad-42b2-8b91-f6e69dbc27f7",
   "metadata": {},
   "outputs": [
    {
     "name": "stdout",
     "output_type": "stream",
     "text": [
      "1\n"
     ]
    }
   ],
   "source": [
    "#Booleans 2\n",
    "#logical tracker = True\n",
    "#logical tracker = logical tracker & logical tracker\n",
    "#logical tracker = logical tracker | (logical tracker - logical tracker)\n",
    "#logical tracker  = ?\n",
    "\n",
    "x = True\n",
    "x = x & x\n",
    "x = x | (x - x)\n",
    "print(x)"
   ]
  },
  {
   "cell_type": "code",
   "execution_count": 16,
   "id": "1075e1e3-f6c9-443e-89ac-09b2b52d91a1",
   "metadata": {},
   "outputs": [
    {
     "name": "stdout",
     "output_type": "stream",
     "text": [
      " \n"
     ]
    }
   ],
   "source": [
    "#Strings\n",
    "#string = \"E. Coli\"\n",
    "\n",
    "#string[2]=\n",
    "\n",
    "string = \"E. Coli\"\n",
    "print(string[2])"
   ]
  },
  {
   "cell_type": "code",
   "execution_count": 19,
   "id": "19e722f8-5585-4727-bac5-8731ff393ff7",
   "metadata": {},
   "outputs": [
    {
     "name": "stdout",
     "output_type": "stream",
     "text": [
      "I Love python\n"
     ]
    }
   ],
   "source": [
    "#Strings2\n",
    "#Oh no! My string has a typo! string = \"I Bove python\" No worries though. I'll just fix that. string[2]=\"L\"\n",
    "\n",
    "String = \"I Bove python\"\n",
    "x = String\n",
    "x = x.replace('B', 'L')\n",
    "print(x)"
   ]
  },
  {
   "cell_type": "code",
   "execution_count": 24,
   "id": "0f3c6d96-548a-49bb-a1c6-2e8373936178",
   "metadata": {
    "editable": true,
    "slideshow": {
     "slide_type": ""
    },
    "tags": []
   },
   "outputs": [
    {
     "name": "stdout",
     "output_type": "stream",
     "text": [
      "10\n",
      "37\n"
     ]
    }
   ],
   "source": [
    "#Operators 2\n",
    "#Explain how the \"+\", addition operation works differently for integers and strings.\n",
    "\n",
    "print (3 + 7)\n",
    "print (str(3) + str(7))"
   ]
  },
  {
   "cell_type": "code",
   "execution_count": 28,
   "id": "d6f43165-ff8c-430b-8575-dd445117ebb3",
   "metadata": {},
   "outputs": [
    {
     "name": "stdout",
     "output_type": "stream",
     "text": [
      "73\n"
     ]
    }
   ],
   "source": [
    "#string 3\n",
    "#Type the output if the strings \"7\" and \"3\" are added.\n",
    "\n",
    "print(str(7) + str(3))"
   ]
  },
  {
   "cell_type": "code",
   "execution_count": null,
   "id": "54b304d0-0126-466d-a3e0-e9be054172bd",
   "metadata": {},
   "outputs": [],
   "source": []
  },
  {
   "cell_type": "code",
   "execution_count": null,
   "id": "f1474303-7b9e-4ca9-9b3c-b33b9a609a3e",
   "metadata": {},
   "outputs": [],
   "source": []
  },
  {
   "cell_type": "code",
   "execution_count": null,
   "id": "b2be502d-2c7a-4910-8099-833d8bd0e48a",
   "metadata": {},
   "outputs": [],
   "source": []
  },
  {
   "cell_type": "code",
   "execution_count": null,
   "id": "00f866d5-f1f9-46d7-a1e6-4c46746e0c92",
   "metadata": {},
   "outputs": [],
   "source": []
  },
  {
   "cell_type": "code",
   "execution_count": null,
   "id": "3de2870d-d3c2-48db-b247-d1b1ac088806",
   "metadata": {},
   "outputs": [],
   "source": []
  },
  {
   "cell_type": "code",
   "execution_count": null,
   "id": "6e2ca82a-5e4b-42eb-a148-3bcd804caf74",
   "metadata": {},
   "outputs": [],
   "source": []
  },
  {
   "cell_type": "code",
   "execution_count": null,
   "id": "22d245b4-1a5f-44a6-a6b6-e52a3ad8e373",
   "metadata": {},
   "outputs": [],
   "source": []
  }
 ],
 "metadata": {
  "kernelspec": {
   "display_name": "Python 3 (ipykernel)",
   "language": "python",
   "name": "python3"
  },
  "language_info": {
   "codemirror_mode": {
    "name": "ipython",
    "version": 3
   },
   "file_extension": ".py",
   "mimetype": "text/x-python",
   "name": "python",
   "nbconvert_exporter": "python",
   "pygments_lexer": "ipython3",
   "version": "3.11.5"
  }
 },
 "nbformat": 4,
 "nbformat_minor": 5
}
